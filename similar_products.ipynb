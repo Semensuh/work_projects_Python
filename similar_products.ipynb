{
 "cells": [
  {
   "cell_type": "code",
   "execution_count": 70,
   "id": "4524fc35",
   "metadata": {},
   "outputs": [],
   "source": [
    "import numpy as np\n",
    "import pandas as pd\n",
    "import pyodbc\n",
    "\n",
    "from sklearn.metrics import accuracy_score\n",
    "from sklearn.model_selection import StratifiedKFold\n",
    "from sklearn.preprocessing import LabelEncoder\n",
    "from sqlalchemy import create_engine\n",
    "from xgboost import XGBClassifier\n",
    "\n",
    "from similar_fun import convert_to_float, price_class, dummies_encoding, search_for_neighbors, sorted_nearest_indexes"
   ]
  },
  {
   "cell_type": "code",
   "execution_count": null,
   "id": "f3f15895",
   "metadata": {},
   "outputs": [],
   "source": [
    "server = 'TEST_SERVER'\n",
    "database = 'test_db'\n",
    "conn = pyodbc.connect(\n",
    "   'DRIVER={SQL Server};SERVER=' + server + ';DATABASE=' + database + ';Trusted_Connection=yes')\n",
    "conn = create_engine('mssql+pyodbc://' + server + '/' + database + '?trusted_connection=yes&driver=SQL Server')\n",
    "\n",
    "###  Download of specifications\n",
    "\n",
    "query = f\"\"\"SELECT id_product, id_specification, im_specification_value\n",
    "        FROM dm_vw.im_product_specifications  sp\n",
    "        INNER JOIN (SELECT DISTINCT ProductId FROM smartpr.ec_prices) prices\n",
    "        ON sp.id_product = prices.ProductId\n",
    "        WHERE category == \"Ноутбуки\"\n",
    "\"\"\"\n",
    "data = pd.read_sql(query,conn)\n",
    "\n",
    "### Download of price\n",
    "\n",
    "query = f\"\"\"SELECT DISTINCT prices.ProductId, \n",
    "        FIRST_VALUE(Price) OVER(PARTITION BY ProductId ORDER BY lst.Date DESC)  Price\n",
    "        FROM smartpr.ec_prices prices\n",
    "        INNER JOIN smartpr.ec_price lst \n",
    "        ON lst.Id = prices.Id\n",
    "        WHERE ProductId in (SELECT DISTINCT id_product FROM dm_vw.im_product_specifications \n",
    "                            WHERE category == \"Ноутбуки\") \n",
    "        AND Price > 0\n",
    "\"\"\" \n",
    "prices = pd.read_sql(query,conn) "
   ]
  },
  {
   "cell_type": "code",
   "execution_count": null,
   "id": "b4fbeb74",
   "metadata": {},
   "outputs": [],
   "source": [
    "df = data.pivot(index='id_product', columns='id_specification', values='im_specification_value')\n",
    "df.reset_index(inplace=True) \n",
    "df.rename(columns={'id_product': 'ProductId'}, inplace=True) \n",
    "df = df.merge(prices, on='ProductId', how='inner') "
   ]
  },
  {
   "cell_type": "code",
   "execution_count": 29,
   "id": "c3aa6059",
   "metadata": {},
   "outputs": [],
   "source": [
    "df['Вес'] = df['Вес'].astype(str)\n",
    "df['Высота'] = df['Высота'].astype(str)"
   ]
  },
  {
   "cell_type": "code",
   "execution_count": 33,
   "id": "57a393bf",
   "metadata": {},
   "outputs": [],
   "source": [
    "### Data preprocessing for boosting\n",
    "\n",
    "columns = df.columns \n",
    "n = round(df.shape[0] * 0.8) \n",
    "for col in columns:\n",
    "    if df[col].dropna().shape[0] < n:\n",
    "        df.drop(col, axis=1, inplace=True)\n",
    "\n",
    "\n",
    "key_words = ['вес', 'диагональ', 'высота', 'толщина', 'ширина', 'емкость', 'память','кол-во', 'количество', 'объем'\n",
    "            'мощность', 'диаметр', 'диаметр']\n",
    "\n",
    "size = df.shape[0]\n",
    "columns = df.columns\n",
    "for col in columns:\n",
    "    col_name = col.lower()\n",
    "    for word in key_words:\n",
    "        if (col_name.find(word) != -1):\n",
    "            df[col] =  df[col].astype(str)\n",
    "            df[col + '_' + 'to_float'] = df[col].apply(convert_to_float)\n",
    "            if df[col + '_' + 'to_float'].sum() >= size*0.99:  \n",
    "                df.loc[df[col + '_' + 'to_float']==1, col] = df.loc[df[col + '_' + 'to_float']==1, col].astype(float)\n",
    "                df.loc[df[col + '_' + 'to_float']==0, col] = df.loc[df[col + '_' + 'to_float']==1, col].median()\n",
    "\n",
    "df1 = df.copy() "
   ]
  },
  {
   "cell_type": "code",
   "execution_count": 39,
   "id": "2089dca3",
   "metadata": {},
   "outputs": [],
   "source": [
    "price_index = np.where(columns == 'Price')[0][0]\n",
    "feature_cols = df.columns[1:price_index] \n",
    "cat_features = []\n",
    "for col in feature_cols: \n",
    "    try: \n",
    "        if col == \"Емкость SSD (Гб)\": \n",
    "            df.loc[df[col].isnull(), col]  = 0 \n",
    "        else:\n",
    "            df.loc[df[col].isnull(), col]  = df[col].median()      \n",
    "    except TypeError:\n",
    "        df[col] = df[col].astype(str) \n",
    "        cat_features.append(col)\n",
    "\n",
    "le = LabelEncoder()\n",
    "for col in cat_features:\n",
    "    df[col] = le.fit_transform(df[col]) "
   ]
  },
  {
   "cell_type": "code",
   "execution_count": null,
   "id": "88b53dd8",
   "metadata": {},
   "outputs": [],
   "source": [
    "### Division into price classes for boosting\n",
    "\n",
    "x_min = df['Price'].quantile(10/100) \n",
    "x_max = df['Price'].quantile(90/100)\n",
    "k = 8\n",
    "length = (x_max - x_min) / k\n",
    "x = []\n",
    "x.append(x_min)\n",
    "for i in range(k):\n",
    "    x.append(x[-1] + length)\n",
    "\n",
    "df['price_class'] = df['Price'].apply(price_class, borders=x)"
   ]
  },
  {
   "cell_type": "code",
   "execution_count": null,
   "id": "5d717bbc",
   "metadata": {},
   "outputs": [],
   "source": [
    "### Training of boosting\n",
    "\n",
    "features = df[feature_cols]\n",
    "answers = df['price_class']\n",
    "X = features.values \n",
    "Y = answers.values\n",
    "\n",
    "n_splits = min(10, df['price_class'].value_counts().min())\n",
    "\n",
    "cv = StratifiedKFold(n_splits=n_splits)\n",
    "model = XGBClassifier(eval_metric='mlogloss', use_label_encoder=False) \n",
    "weights = []\n",
    "accuracy_list = []\n",
    "\n",
    "for train, test in cv.split(X, Y):\n",
    "    model.fit(X[train], Y[train])\n",
    "    weights.append(model.feature_importances_)\n",
    "    Y_pred = model.predict(X[test])\n",
    "    elem_accuracy = accuracy_score(Y[test], Y_pred)\n",
    "    accuracy_list.append(elem_accuracy)"
   ]
  },
  {
   "cell_type": "code",
   "execution_count": 56,
   "id": "8c7928a7",
   "metadata": {},
   "outputs": [],
   "source": [
    "### Selecting the best iteration and then main features\n",
    "\n",
    "best_indexes = np.argsort(accuracy_list)[::-1][:2]\n",
    "mean_weights = np.mean(np.array(weights)[best_indexes], axis=0)\n",
    "sorted_weights = sorted(mean_weights)[::-1]\n",
    "\n",
    "sum_w = 0\n",
    "end_ind = 0\n",
    "for i in range(len(sorted_weights)):\n",
    "    sum_w += sorted_weights[i]\n",
    "    end_ind = i + 1\n",
    "    if (sum_w >= 0.5) and (end_ind > 1):  \n",
    "        break\n",
    "\n",
    "main_indexes = np.argsort(mean_weights)[::-1][:end_ind] \n",
    "main_weights = mean_weights[main_indexes]"
   ]
  },
  {
   "cell_type": "code",
   "execution_count": null,
   "id": "f28d9fee",
   "metadata": {},
   "outputs": [],
   "source": [
    "### Weights of the main features (for dummies encoding)\n",
    "\n",
    "relation_weights = relation_weights / main_weights[-1]\n",
    "\n",
    "\n",
    "### Preprocessing for finding neighbors \n",
    "\n",
    "selected_cols = feature_cols[main_indexes]"
   ]
  },
  {
   "cell_type": "code",
   "execution_count": 66,
   "id": "92d1e9ee",
   "metadata": {},
   "outputs": [],
   "source": [
    "### For dummies encoding\n",
    "\n",
    "for col in selected_cols:\n",
    "    df1[col] = df1[col].astype(str) \n",
    "\n",
    "if 'Производитель' in feature_cols:\n",
    "    brand_col ='Производитель' \n",
    "elif 'Бренд' in feature_cols:\n",
    "    brand_col = 'Бренд' "
   ]
  },
  {
   "cell_type": "code",
   "execution_count": 67,
   "id": "d59631eb",
   "metadata": {},
   "outputs": [],
   "source": [
    "###  If there is Apple, then it must be separated\n",
    "\n",
    "apple_indexes = np.where(df1[brand_col] == 'Apple')[0]\n",
    "if len(apple_indexes) > 0:\n",
    "    selected_apple = df1[df1[brand_col] == 'Apple'].copy()\n",
    "    df1.drop(apple_indexes, axis=0, inplace=True)"
   ]
  },
  {
   "cell_type": "code",
   "execution_count": 71,
   "id": "dc3ddbdb",
   "metadata": {},
   "outputs": [],
   "source": [
    "### Finding neighbors for all brands except Apple\n",
    "\n",
    "features = dummies_encoding(df1, selected_cols, relation_weights)\n",
    "closest_ind = search_for_neighbors(features)\n",
    "\n",
    "items = df1['ProductId'].values\n",
    "neighbors = items[sorted_nearest_indexes(df1, brand_col, closest_ind, apple=False)]\n",
    "\n",
    "n = neighbors.shape[0]\n",
    "dct_neighbors = {items[i]: neighbors[i] for i in range(n)}"
   ]
  },
  {
   "cell_type": "code",
   "execution_count": 68,
   "id": "9342a208",
   "metadata": {},
   "outputs": [],
   "source": [
    "###  Finding neighbors for Apple if there it exists\n",
    "\n",
    "if len(apple_indexes) > 0:\n",
    "    features = dummies_encoding(selected_apple, selected_cols, relation_weights)\n",
    "    closest_ind = search_for_neighbors(features)\n",
    "\n",
    "    apple_items = selected_apple['ProductId'].values\n",
    "    apple_neighbors = apple_items[sorted_nearest_indexes(selected_apple, brand_col, closest_ind, apple=True)]\n",
    "\n",
    "    n = apple_neighbors.shape[0]\n",
    "    dct_neighbors.update({apple_items[i]: apple_neighbors[i] for i in range(n)})"
   ]
  }
 ],
 "metadata": {
  "kernelspec": {
   "display_name": "Python 3",
   "language": "python",
   "name": "python3"
  },
  "language_info": {
   "codemirror_mode": {
    "name": "ipython",
    "version": 3
   },
   "file_extension": ".py",
   "mimetype": "text/x-python",
   "name": "python",
   "nbconvert_exporter": "python",
   "pygments_lexer": "ipython3",
   "version": "3.8.8"
  }
 },
 "nbformat": 4,
 "nbformat_minor": 5
}
